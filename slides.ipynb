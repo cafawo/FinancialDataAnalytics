{
 "cells": [
  {
   "attachments": {},
   "cell_type": "markdown",
   "metadata": {},
   "source": [
    "![head.png](figures/head.jpg)\n",
    "\n",
    "# Financial Data Analytics in Python\n",
    "\n",
    "**Prof. Dr. Fabian Woebbeking**</br>\n",
    "Assistant Professor of Financial Economics\n",
    "\n",
    "IWH - Leibniz Institute for Economic Research</br>\n",
    "MLU - Martin Luther University Halle-Wittenberg\n",
    "\n",
    "fabian.woebbeking@iwh-halle.de"
   ]
  },
  {
   "attachments": {},
   "cell_type": "markdown",
   "metadata": {},
   "source": [
    "# Introduction\n"
   ]
  },
  {
   "attachments": {},
   "cell_type": "markdown",
   "metadata": {},
   "source": [
    "## Learning experience\n",
    "\n",
    "This course is predominantly hands on and draws from several subject areas, such as financial economics, data science, textual analysis, etc. The fundamental concept is to **introduce and implement concepts that are relevant to financial economists**. As such, in class and grading, we focus both on knowledge transfer as well as the solution.\n",
    "\n",
    "*I hate programming!*</br>\n",
    "*I hate programming!*</br>\n",
    "*I hate programming!*</br>\n",
    "*OH! IT WORKS!*</br>\n",
    "*I love programming!*</br>"
   ]
  },
  {
   "attachments": {},
   "cell_type": "markdown",
   "metadata": {},
   "source": [
    "### Materials\n",
    "\n",
    "The course is hosted as a Git repository on GitHub (see README.md therein): https://github.com/cafawo/FinancialDataAnalytics\n",
    "\n",
    "We will rely heavily on Jupyter notebooks during the class. **Especially during class and as a backup**, you can always open the latest version of the material using:\n",
    "* the interactive [**Colab version**](https://colab.research.google.com/github/cafawo/FinancialDataAnalytics/blob/master/slides.ipynb)\n",
    "* or a static [html version](https://cafawo.github.io/FinancialDataAnalytics/slides.html)\n",
    "\n",
    "> \"Colaboratory, or “Colab” for short, is a product from Google Research. Colab allows anybody to write and execute arbitrary python code through the browser, and is especially well suited to machine learning, data analysis and education. More technically, Colab is a hosted Jupyter notebook service that requires no setup to use, while providing access free of charge to computing resources including GPUs.\" [(Google, 2023)](https://research.google.com/colaboratory/faq.html)\n",
    "\n",
    "Here you can find Colab links for all notebooks in the repository:"
   ]
  },
  {
   "cell_type": "code",
   "execution_count": 45,
   "metadata": {},
   "outputs": [
    {
     "name": "stdout",
     "output_type": "stream",
     "text": [
      "https://colab.research.google.com/github/cafawo/FinancialDataAnalytics/blob/master/slides.ipynb\n",
      "https://colab.research.google.com/github/cafawo/FinancialDataAnalytics/blob/master/homework/01_setup.ipynb\n",
      "https://colab.research.google.com/github/cafawo/FinancialDataAnalytics/blob/master/homework/02_python.ipynb\n",
      "https://colab.research.google.com/github/cafawo/FinancialDataAnalytics/blob/master/homework/02_python_solutions.ipynb\n",
      "https://colab.research.google.com/github/cafawo/FinancialDataAnalytics/blob/master/homework/_template.ipynb\n"
     ]
    }
   ],
   "source": [
    "\"\"\"\n",
    "Yeah I know, this cell does not run on Colab. :)\n",
    "The solution requires web scraping or the GitHub Python API.\n",
    "If you have a better solution, open a pull request.\n",
    "\"\"\"\n",
    "import os\n",
    "colab_url = \"https://colab.research.google.com/github/cafawo/FinancialDataAnalytics/blob/master/\"\n",
    "# Loop through all the directories and files in the root directory and its subdirectories\n",
    "for root, _, files in os.walk('.'):\n",
    "    for file in files:\n",
    "        # Check if the file has a .ipynb extension\n",
    "        if file.endswith('.ipynb'):\n",
    "            # Extract the relative path to the notebook\n",
    "            notebook_path = os.path.join(root, file).replace(\"\\\\\",\"/\")\n",
    "            # Print the Colab url\n",
    "            print(colab_url + notebook_path[2:])"
   ]
  },
  {
   "attachments": {},
   "cell_type": "markdown",
   "metadata": {},
   "source": [
    "### Grading\n",
    "\n",
    "**Deliverables:**\n",
    "\n",
    "1. Small homework assignments are designed to keep track of your progress (individually)\n",
    "2. Two case studies on current topics in data science and financial economics (individually)\n",
    "3. One presentation on libraries, tools or data science topics that cannot be covered in detail during the classes (potentially in groups)\n",
    "\n",
    "All students are requested to hand in their homework, cases and presentation slides as **one Git repository**. This repository is submitted only once, by the end of the entire course. Please note that Git keeps track of changes made (when and by whom) in a repository, copy pasting a repository - i.e. plagiarism - from a colleague will not be tolerated. \n",
    "\n",
    "**Deadlines** are enforced through the **commit timestamps** within your repository. For example, a homework assignment has to be commited before the start of the following lecture (where the solution is discussed). Homework assignments that are commited before the deadline are equally weighted, others are ignored(!). You have to submit a **minimum of 4** homework assignments.\n",
    "\n",
    "\n",
    "\n",
    "**Bonus points:**\n",
    "\n",
    "Bonus points are awarded to incentivize a collaborative class environnement. Points are awarded for **asking, answering and voting** on Q&A here: https://github.com/cafawo/FinancialDataAnalytics/discussions\n",
    "\n",
    "You are also allowed to ask and answer questions yourself. Please note that the discussion board is monitored and should be used strictly for Q&A that relates to the class. \"How do you like the food in the dining hall?\" is not considered a relevant question, hence, does not get you any points. You are allowed to cite and link external sources (e.g. Stack Overflow). You can add an additional answer (there is a voting system).\n",
    "\n",
    "Additionally, you are very much invited to propose changes (so called pull-requests) to the course repository, see https://github.com/cafawo/FinancialDataAnalytics/pulls"
   ]
  },
  {
   "attachments": {},
   "cell_type": "markdown",
   "metadata": {},
   "source": [
    "## Tech requirements\n",
    "\n",
    "This class requires you to run Python codes (incl. scripts and Jupyter notebooks). Furthermore, we use Git and GitHub as a versioning system. All software are open source and/or free!\n",
    "\n",
    "If you do not have the tech yet:\n",
    "\n",
    "* Install Python version 3.8 or higher (I highly recommend Anaconda):\n",
    "    * https://www.anaconda.com/products/distribution\n",
    "* Install Git (choose one of these):\n",
    "    * https://git-scm.com/downloads\n",
    "    * https://anaconda.org/anaconda/git\n",
    "\n",
    "The remainder of the slides assumes that you have both Python and Git installed on your system. Nevertheless, should you encounter difficulties, consider using Colab (see \"Materials\" above)."
   ]
  },
  {
   "attachments": {},
   "cell_type": "markdown",
   "metadata": {},
   "source": [
    "## Git and GitHub\n",
    "\n",
    "![git.png](figures/git.png)\n",
    "\n",
    "### Git (local repository)\n",
    "> Git is a free and open source distributed version control system designed to handle everything from small to very large projects with speed and efficiency. [(see Git, 2023)](https://git-scm.com/)\n",
    "\n",
    "Some source-code editors come with build-in Git (and even GitHub) capabilities or can be extended (e.g. [Microsoft's Visual Studio Code](https://code.visualstudio.com/), which I use during this course).\n",
    "\n",
    "Your local repository is essentially a folder on your local file system. Changes made in that folder can be committed to the (local) git repository. \n",
    "\n",
    "First, \"stage\" your changes - this is sth. like a pre-commit:\n",
    "\n",
    "```Bash\n",
    "# The '*' adds all changes made in your folder (you should be more selective)\n",
    "git add *\n",
    "```\n",
    "\n",
    "Second, commit your staged changes to the local repository:\n",
    "```Bash\n",
    "git commit -m 'Commit message'\n",
    "```\n",
    "\n",
    "In the broadest sense, you could see Git as a block chain of commits (changes) made to your repository. You can thus\n",
    "* observe a complete history.\n",
    "* `git checkout` the state at any commit to the repository.\n",
    "\n",
    "Why Git? ... \n",
    "\n",
    "![conint.png](figures/continuous_integration.png)\n",
    "\n",
    "\n",
    ">Continuous integration is a DevOps software development practice where developers regularly merge their code changes into a central repository, after which automated builds and tests are run. [AWS, 2023](https://aws.amazon.com/devops/continuous-integration)\n",
    "\n",
    "\n",
    "\n",
    "\n",
    "More on Git:\n",
    "\n",
    "* About Git itself: https://git-scm.com/about\n",
    "* Getting started (videos, tutorials): https://git-scm.com/doc\n",
    "\n",
    "\n",
    "### GitHub (remote repository)\n",
    "\n",
    "> GitHub is an Internet hosting service for software development and version control using Git.\n",
    "\n",
    "Connecting to the remote repository\n",
    "\n",
    "After installing git, you can `clone` the course repository to your local system:\n",
    "\n",
    "```Bash\n",
    "git clone https://github.com/cafawo/FinancialDataAnalytics.git\n",
    "```\n",
    "\n",
    "Your local Git repository remembers its origins. This enables you to `pull` updates from the remote (Git does not synchronize automatically). \n",
    "\n",
    "```Bash\n",
    "git pull\n",
    "```\n",
    "\n",
    "If you have write access to the remote, you can also `push` changes to it.\n",
    "\n",
    "```Bash\n",
    "git push\n",
    "```\n",
    "\n",
    "Careful: Git tries its best to merge the remote with the local repository, however, might fail if the two repositories are 'too' diverging. This should not concern you too much as a single user, but becomes very relevant when collaborating on a remote.\n",
    "\n",
    "This is all we need for this course, however, it is only the tip of the iceberg. More on GitHub:\n",
    "\n",
    "* Working with GitHub (remotes): https://skills.github.com/\n"
   ]
  },
  {
   "attachments": {},
   "cell_type": "markdown",
   "metadata": {},
   "source": [
    "## Python\n",
    "\n",
    "- Python is an open-source programming language that can be downloaded and used for free.\n",
    "- Python was created by Guido van Rossum and first published in 1991.\n",
    "- Today the language is largely developed by the Python Software Foundation, a nonprofit organization.\n",
    "- It is named after the British comedy group \"Monty Python\"."
   ]
  },
  {
   "attachments": {},
   "cell_type": "markdown",
   "metadata": {},
   "source": [
    "If you are new to Python, many examples and extended information can be found on the following websites:  \n",
    "\n",
    "* [Beginners' Guide](https://wiki.python.org/moin/BeginnersGuide)\n",
    "* [Python.org](https://docs.python.org/3/tutorial/)\n",
    "* [Scipy Lectures](http://scipy-lectures.org/_downloads/ScipyLectures-simple.pdf)\n",
    "* [The Hitchhiker’s Guide to Python](https://docs.python-guide.org)"
   ]
  },
  {
   "attachments": {},
   "cell_type": "markdown",
   "metadata": {},
   "source": [
    "Pros:\n",
    "- __Universal__: Python runs on any operating system.\n",
    "- __Easy to learn__: Although Python is highly versatile (e.g. can be used for scientific computing), it is relatively easy to learn.\n",
    "- __Readable code__: Python is a high-level programming language, making it easy to read and work with.\n",
    "- __General purpose__: The language can be applied to solve different problems at hand.\n",
    "- __Open source__ and __free__.\n",
    "- __Cross-platform__\n",
    "- __Indentation aware__: indentation is used instead of braces to mark code blocks.\n",
    "\n",
    "Cons:\n",
    "- __Speed__: While Python is not slow, it cannot keep up with compiled languages such as C, C++, Fortran, COBOL, etc."
   ]
  },
  {
   "attachments": {},
   "cell_type": "markdown",
   "metadata": {},
   "source": [
    "### Running Python\n",
    "\n",
    "You can call `python` directly from a shell or start an online version at [online shell](https://www.python.org/shell/). This gives you a nice calculator, but has limited use for our class. We will focus on scripts (.py suffix) and Jupyter notebooks (.ipynb suffix).\n",
    "\n",
    "#### Scripts (**.py** suffix)\n",
    "\n",
    "For our development process we usually focus on python scripts. These scripts can be edited with any text editor. A python script, e.g. run.py, can be executed in the shell\n",
    "\n",
    "```\n",
    "python run.py\n",
    "```\n",
    "\n",
    "You will have more fun when opening scripts inside an __IDE__ (Integrated Development Environment), which is an application that integrates programming, running code, debugging, etc. One example is [Spyder](https://www.spyder-ide.org/), which ships directly with anaconda.\n",
    "\n",
    "#### Jupyter notebooks (**.ipynb** suffix)\n",
    "\n",
    "> The Jupyter Notebook is a web-based interactive computing platform that allows users to author data- and code-driven narratives that combine live code, equations, narrative text, visualizations, interactive dashboards and other media. [(see Jupyter.org, 2023)](https://jupyter.org/about)\n",
    "\n",
    "Jupyter notebooks run out of the box with our Anaconda distribution. This script here is written in Jupyter. (Remember the backup solution using Colab, which we discussed initially.)\n",
    "\n",
    "Some source-code editors can also open and run Jupyter notebooks (e.g. [Microsoft's Visual Studio Code](https://code.visualstudio.com/), which I use during this course).\n",
    "\n",
    "I recommend Jupyter notebooks as a presentation tool and python scripts for the development of more complex systems.\n",
    "\n",
    "Jupyter notebooks differentiate two basic input cells:\n",
    "\n",
    "#### Text cells aka markdown cells\n",
    "This is a **text cell**. You can **double-click** to edit this cell. Text cells\n",
    "use markdown syntax. To learn more, see this [markdown\n",
    "guide](https://colab.research.google.com/notebooks/markdown_guide.ipynb).\n",
    "\n",
    "You can also add math to text cells using [LaTeX](http://www.latex-project.org/)\n",
    "to be rendered by [MathJax](https://www.mathjax.org). Just place the statement\n",
    "within a pair of **\\$** signs. For example `$\\sqrt{3x-1}+(1+x)^2$` becomes\n",
    "$\\sqrt{3x-1}+(1+x)^2.$\n",
    "\n",
    "##### Code cells\n",
    "\n",
    "Below is a **code cell**.\n",
    "\n",
    "* Click the **Play icon** in the left gutter of the cell;\n",
    "* Type **Cmd/Ctrl+Enter** to run the cell in place;"
   ]
  },
  {
   "cell_type": "code",
   "execution_count": 46,
   "metadata": {},
   "outputs": [
    {
     "name": "stdout",
     "output_type": "stream",
     "text": [
      "12\n"
     ]
    }
   ],
   "source": [
    "a = 10 + 2\n",
    "print(a)"
   ]
  },
  {
   "attachments": {},
   "cell_type": "markdown",
   "metadata": {},
   "source": [
    "# Python basics\n",
    "\n",
    "## Style\n",
    "\n",
    "Without being too pedantic, we follow the [PEP 8 – Style Guide for Python Code](https://peps.python.org/pep-0008/). When in doubt, return to this source for guidance.\n",
    "\n",
    "### Naming convention\n",
    "Here are some best practices to follow when naming stuff.\n",
    "* Use all lowercase. Ex: name instead of Name\n",
    "* One exception: class names should start with a capital letter and follow by lowercase letters.\n",
    "* Use snake_case convention (i.e., separate words by underscores, look like a snake). Ex: gross_profit instead of grossProfit or GrossProfit.\n",
    "* Should be meaningful and easy to remember. Ex: interest_rate instead of r or ir.\n",
    "* Should have a reasonable length. Ex: sales_apr instead of sales_data_for_april\n",
    "* Avoid names of popular functions and modules. Ex: avoid print, math, or collections.\n",
    "\n",
    "### Comments\n",
    "\n",
    "Comments should help to understand how your code works and your intentions behind it! \n",
    "\n",
    "> Comments that contradict the code are worse than no comments. Always make a priority of keeping the comments up-to-date when the code changes! Comments should be complete sentences. The first word should be capitalized, unless it is an identifier that begins with a lower case letter (never alter the case of identifiers!). [(PEP 8)](https://peps.python.org/pep-0008/#comments)"
   ]
  },
  {
   "attachments": {},
   "cell_type": "markdown",
   "metadata": {},
   "source": [
    "## Data types and structures\n",
    "\n",
    "Python comes with a small set of functions and types built into it that are always available [(see overview HERE)](https://docs.python.org/3/library/functions.html).\n",
    "\n",
    "See: \n",
    "* https://docs.python.org/3/tutorial/introduction.html\n",
    "* https://docs.python.org/3/tutorial/datastructures.html"
   ]
  },
  {
   "cell_type": "code",
   "execution_count": 47,
   "metadata": {},
   "outputs": [],
   "source": [
    "# Hi, I'm a comment"
   ]
  },
  {
   "cell_type": "code",
   "execution_count": 48,
   "metadata": {},
   "outputs": [
    {
     "name": "stdout",
     "output_type": "stream",
     "text": [
      "Hello World!\n"
     ]
    }
   ],
   "source": [
    "# Printing to the standard output\n",
    "print(\"Hello World!\")"
   ]
  },
  {
   "cell_type": "code",
   "execution_count": 49,
   "metadata": {},
   "outputs": [
    {
     "name": "stdout",
     "output_type": "stream",
     "text": [
      "10\n"
     ]
    }
   ],
   "source": [
    "# A simple calculator\n",
    "print(2 + 2 * 2 + 2 ** 2)"
   ]
  },
  {
   "attachments": {},
   "cell_type": "markdown",
   "metadata": {},
   "source": [
    "### Variables"
   ]
  },
  {
   "cell_type": "code",
   "execution_count": 50,
   "metadata": {},
   "outputs": [],
   "source": [
    "# Assigning variables\n",
    "savings = 1000\n",
    "r = 0.025"
   ]
  },
  {
   "cell_type": "code",
   "execution_count": 51,
   "metadata": {},
   "outputs": [],
   "source": [
    "# Calculate the savings value in ten years, given an interest rate of 2.5%.\n",
    "future_value = savings*(1+r)**10 "
   ]
  },
  {
   "cell_type": "code",
   "execution_count": 52,
   "metadata": {},
   "outputs": [
    {
     "name": "stdout",
     "output_type": "stream",
     "text": [
      "1280.0845441963565\n"
     ]
    }
   ],
   "source": [
    "# Note that assigning a variable (above) does not print an output.\n",
    "print(future_value)"
   ]
  },
  {
   "attachments": {},
   "cell_type": "markdown",
   "metadata": {},
   "source": [
    "### Basic data types\n",
    "\n",
    "| Object type | Meaning | Used for\n",
    "|-|---|-\n",
    "| int | Integer value | Natural numbers \n",
    "|float | Floating-point number | Real numbers\n",
    "|bool | Boolean value | Something true or false\n",
    "| str | String object | Character, word, text "
   ]
  },
  {
   "attachments": {},
   "cell_type": "markdown",
   "metadata": {},
   "source": [
    "#### `int()`\n",
    "\n",
    "Zero, natural numbers and their negative counterparts, i.e., $\\mathbb Z=\\{\\ldots,-3,-2,-1,0,1,2,3,\\ldots\\}$"
   ]
  },
  {
   "cell_type": "code",
   "execution_count": 53,
   "metadata": {},
   "outputs": [
    {
     "name": "stdout",
     "output_type": "stream",
     "text": [
      "4\n",
      "<class 'int'>\n"
     ]
    }
   ],
   "source": [
    "int_example = 4\n",
    "print(int_example)\n",
    "print(type(int_example))"
   ]
  },
  {
   "attachments": {},
   "cell_type": "markdown",
   "metadata": {},
   "source": [
    "#### `float()`\n",
    "\n",
    "Floating point numbers (\"floats\"), are a computer representation of real numbers, i.e., $\\mathbb R$"
   ]
  },
  {
   "cell_type": "code",
   "execution_count": 54,
   "metadata": {},
   "outputs": [
    {
     "name": "stdout",
     "output_type": "stream",
     "text": [
      "0.25\n",
      "<class 'float'>\n"
     ]
    }
   ],
   "source": [
    "float_example = 1/4\n",
    "print(float_example)\n",
    "print(type(float_example))"
   ]
  },
  {
   "attachments": {},
   "cell_type": "markdown",
   "metadata": {},
   "source": [
    "#### `bool()`\n",
    "\n",
    "* Boolean: True or False\n",
    "* Data type associated with logical expressions\n",
    "* A Boolean is either `True` or `False`"
   ]
  },
  {
   "cell_type": "code",
   "execution_count": 55,
   "metadata": {},
   "outputs": [
    {
     "name": "stdout",
     "output_type": "stream",
     "text": [
      "True\n",
      "<class 'bool'>\n"
     ]
    }
   ],
   "source": [
    "bool_example = 5 > 4\n",
    "print(bool_example)\n",
    "print(type(bool_example))"
   ]
  },
  {
   "cell_type": "code",
   "execution_count": 56,
   "metadata": {},
   "outputs": [
    {
     "name": "stdout",
     "output_type": "stream",
     "text": [
      "True\n",
      "True\n"
     ]
    }
   ],
   "source": [
    "# Also\n",
    "print(True == 1)  # !\n",
    "print(False == 0)  # !"
   ]
  },
  {
   "attachments": {},
   "cell_type": "markdown",
   "metadata": {},
   "source": [
    "#### `str()` \n",
    "* Strings represent text, i.e., a string is a sequence of characters. \n",
    "* A string object is defined by wrapping its contents in in single or double quotation marks."
   ]
  },
  {
   "cell_type": "code",
   "execution_count": 57,
   "metadata": {},
   "outputs": [
    {
     "name": "stdout",
     "output_type": "stream",
     "text": [
      "Hello World!\n",
      "<class 'str'>\n"
     ]
    }
   ],
   "source": [
    "str_example = \"Hello World!\"\n",
    "print(str_example)\n",
    "print(type(str_example))"
   ]
  },
  {
   "cell_type": "code",
   "execution_count": 58,
   "metadata": {},
   "outputs": [
    {
     "name": "stdout",
     "output_type": "stream",
     "text": [
      "HELLO WORLD!\n",
      "['Hello', 'World!']\n",
      "['He', '', 'o Wor', 'd!']\n"
     ]
    }
   ],
   "source": [
    "# Build in Functions for strings, e.g.\n",
    "print(str_example.upper())\n",
    "print(str_example.split(' '))\n",
    "print(str_example.split('l'))"
   ]
  },
  {
   "cell_type": "code",
   "execution_count": 59,
   "metadata": {},
   "outputs": [
    {
     "name": "stdout",
     "output_type": "stream",
     "text": [
      "Plain: The future value from above is equal to 1280.0845441963565\n",
      "Fancy: The future value from above is equal to 1,280.08 with 2.50% interest.\n"
     ]
    }
   ],
   "source": [
    "# String formatting (this is cool stuff)\n",
    "formatted_str = f\"Plain: The future value from above is equal to {future_value}\"\n",
    "print(formatted_str)\n",
    "# Fancy string formatting (this is cool stuff)\n",
    "fancy_formatted_str = f\"Fancy: The future value from above is equal to {future_value:,.2f} with {r*100:.2f}% interest.\"\n",
    "print(fancy_formatted_str)"
   ]
  },
  {
   "attachments": {},
   "cell_type": "markdown",
   "metadata": {},
   "source": [
    "### Basic data structures\n",
    "\n",
    "| Object type | Meaning | Used for\n",
    "|-|---|-\n",
    "| list | Mutable container | Changing set of objects\n",
    "| tuple | Immutable container | Fixed set ob objects, record\n",
    "| dict | Mutable container | Key-value store\n",
    "| set | Mutable container | Collection of unique objects\n",
    "\n",
    "Please note that in Python **indices start at 0!**"
   ]
  },
  {
   "attachments": {},
   "cell_type": "markdown",
   "metadata": {},
   "source": [
    "#### `list()`\n",
    "* A list is created by listing its elements within square brackets, separated by commas."
   ]
  },
  {
   "cell_type": "code",
   "execution_count": 60,
   "metadata": {},
   "outputs": [
    {
     "name": "stdout",
     "output_type": "stream",
     "text": [
      "1\n",
      "7\n",
      "[1, 2, 3, 4]\n",
      "[2, 3, 4]\n"
     ]
    }
   ],
   "source": [
    "# Integers are just an example, you could store any other data type\n",
    "example_list = [1, 2, 3, 4, 5, 6, 7]\n",
    "# List indices\n",
    "print(example_list[0])    # First element\n",
    "print(example_list[-1])   # Last element\n",
    "print(example_list[:4])   # First four elements\n",
    "print(example_list[1:4])  # 2nd to 4th element\n"
   ]
  },
  {
   "cell_type": "code",
   "execution_count": 61,
   "metadata": {},
   "outputs": [
    {
     "name": "stdout",
     "output_type": "stream",
     "text": [
      "['A', 2, 'B', 'C', 5, 6, 7]\n",
      "['A', 2, 'B', 'C', 5, 6, 7, 'D']\n"
     ]
    }
   ],
   "source": [
    "# Lists are mutable, hence,\n",
    "example_list[0] = 'A'\n",
    "example_list[2:4] = ['B', 'C']\n",
    "print(example_list)\n",
    "example_list.append('D')\n",
    "print(example_list)"
   ]
  },
  {
   "cell_type": "code",
   "execution_count": 62,
   "metadata": {},
   "outputs": [
    {
     "name": "stdout",
     "output_type": "stream",
     "text": [
      "[1, 4, 9, 16, 25, 36, 49]\n",
      "['AAA', 'AAB', 'ABA']\n"
     ]
    }
   ],
   "source": [
    "# List comprehensions: very fast, very powerful (also see control flows below)\n",
    "example_list = [1, 2, 3, 4, 5, 6, 7]\n",
    "example_list_new = [x**2 for x in example_list]\n",
    "print(example_list_new)\n",
    "example_list_str = [element.upper() for element in ['aaa', 'aab', 'aba']]\n",
    "print(example_list_str)"
   ]
  },
  {
   "attachments": {},
   "cell_type": "markdown",
   "metadata": {},
   "source": [
    "#### `tuple()`\n",
    "* The elements of a tuple are written between parentheses, or just separated by commas.\n",
    "* Tuples are immutable (an immutable object is an object whose state cannot be modified after it is created)."
   ]
  },
  {
   "cell_type": "code",
   "execution_count": 63,
   "metadata": {},
   "outputs": [
    {
     "name": "stdout",
     "output_type": "stream",
     "text": [
      "(1, 2, 3, 'Tom')\n"
     ]
    }
   ],
   "source": [
    "example_tuple = (1, 2, 3, 'Tom')\n",
    "print(example_tuple)"
   ]
  },
  {
   "attachments": {},
   "cell_type": "markdown",
   "metadata": {},
   "source": [
    "#### `dict()`\n",
    "\n",
    "* key -> value pairs"
   ]
  },
  {
   "cell_type": "code",
   "execution_count": 64,
   "metadata": {},
   "outputs": [
    {
     "name": "stdout",
     "output_type": "stream",
     "text": [
      "{'A': 2.5, '2': 2.5, 2.5: 3, 'B': 'Peter'}\n",
      "Peter\n",
      "dict_keys(['A', '2', 2.5, 'B'])\n",
      "dict_values([2.5, 2.5, 3, 'Peter'])\n"
     ]
    }
   ],
   "source": [
    "example_dict = {'A':2.5, '2':2.5, 2.5:3, 'B':'Peter'}\n",
    "print(example_dict)\n",
    "print(example_dict['B'])\n",
    "print(example_dict.keys())\n",
    "print(example_dict.values())"
   ]
  },
  {
   "attachments": {},
   "cell_type": "markdown",
   "metadata": {},
   "source": [
    "#### `set()`\n",
    "\n",
    "* Unique objects"
   ]
  },
  {
   "cell_type": "code",
   "execution_count": 65,
   "metadata": {},
   "outputs": [
    {
     "name": "stdout",
     "output_type": "stream",
     "text": [
      "{1, 2, 3, 4}\n",
      "{1, 2, 3, 4, 5, 6}\n",
      "set()\n",
      "{5, 6}\n"
     ]
    }
   ],
   "source": [
    "example_set = {1, 1, 1, 2, 3, 4}\n",
    "print(example_set)\n",
    "example_set_2 = {1, 2, 3, 4, 5, 6}\n",
    "print(example_set_2)\n",
    "print(example_set - example_set_2)\n",
    "print(example_set_2 - example_set)"
   ]
  },
  {
   "attachments": {},
   "cell_type": "markdown",
   "metadata": {},
   "source": [
    "### Control flow\n",
    "\n",
    "* Control flow refers to control structures such as if-statements and for-loops that control the order in which code is executed.\n",
    "* Python uses indentation to separate control flow statements \n",
    "\n",
    "See:\n",
    "* https://docs.python.org/3/tutorial/controlflow.html"
   ]
  },
  {
   "attachments": {},
   "cell_type": "markdown",
   "metadata": {},
   "source": [
    "#### `if` statements\n",
    "\n",
    "In Python, an if statement is used to execute a block of code only if a specified condition is true. The condition is a boolean expression that is evaluated to either True or False. If the condition is True, the code block inside the if statement is executed. If the condition is False, the code block is skipped and the program continues with the next statement after the if block."
   ]
  },
  {
   "cell_type": "code",
   "execution_count": 66,
   "metadata": {},
   "outputs": [
    {
     "name": "stdout",
     "output_type": "stream",
     "text": [
      "This is True\n"
     ]
    }
   ],
   "source": [
    "if 5 + 5 == 10:\n",
    "    print(\"This is True\")"
   ]
  },
  {
   "cell_type": "code",
   "execution_count": 67,
   "metadata": {},
   "outputs": [
    {
     "name": "stdout",
     "output_type": "stream",
     "text": [
      "5 > 3\n"
     ]
    }
   ],
   "source": [
    "x = 5\n",
    "if x == 1:\n",
    "    print(f\"{x} = 1\")\n",
    "elif x == 2:\n",
    "    print(f\"{x} = 2\")\n",
    "elif x == 3:\n",
    "    print(f\"{x} = 3\")\n",
    "else:\n",
    "    print(f\"{x} > 3\")"
   ]
  },
  {
   "attachments": {},
   "cell_type": "markdown",
   "metadata": {},
   "source": [
    "#### `for` loop\n",
    "\n",
    "A for loop in Python is used to iterate over a sequence of elements, such as a list, tuple, or string. The sequence is the collection of elements over which we want to iterate, and element is a temporary variable that takes on the value of each element in the sequence, one at a time. The code block inside the loop is executed once for each element in the sequence, with the element variable taking on a new value for each iteration."
   ]
  },
  {
   "cell_type": "code",
   "execution_count": 68,
   "metadata": {},
   "outputs": [
    {
     "name": "stdout",
     "output_type": "stream",
     "text": [
      "Is a tulip a flower?\n",
      "Is a rose a flower?\n",
      "Is a cucumber a flower?\n"
     ]
    }
   ],
   "source": [
    "for flower in ['tulip', 'rose', 'cucumber']:\n",
    "    print(f\"Is a {flower} a flower?\")"
   ]
  },
  {
   "cell_type": "code",
   "execution_count": 69,
   "metadata": {},
   "outputs": [
    {
     "name": "stdout",
     "output_type": "stream",
     "text": [
      "0\n",
      "1\n",
      "2\n",
      "3\n",
      "4\n"
     ]
    }
   ],
   "source": [
    "for i in range(5):\n",
    "    print(i)"
   ]
  },
  {
   "attachments": {},
   "cell_type": "markdown",
   "metadata": {},
   "source": [
    "#### `while` loop\n",
    "\n",
    "A while loop in Python repeatedly executes a block of code as long as the specified condition is true. The condition is a boolean expression that is evaluated at the beginning of each iteration. If the condition is true, the code block is executed, and the loop continues. If the condition is false, the loop is exited and the program continues with the next statement after the loop."
   ]
  },
  {
   "cell_type": "code",
   "execution_count": 70,
   "metadata": {},
   "outputs": [
    {
     "name": "stdout",
     "output_type": "stream",
     "text": [
      "1\n",
      "2\n",
      "3\n",
      "4\n",
      "5\n"
     ]
    }
   ],
   "source": [
    "# Print the first 5 positive integers using a while loop\n",
    "i = 1  # Initialize the loop variable\n",
    "while i <= 5:  # Set the loop condition\n",
    "    print(i)  # Print the current value of i\n",
    "    i += 1  # Increment the loop variable"
   ]
  },
  {
   "cell_type": "code",
   "execution_count": 71,
   "metadata": {},
   "outputs": [
    {
     "name": "stdout",
     "output_type": "stream",
     "text": [
      "0\n",
      "1\n",
      "2\n"
     ]
    }
   ],
   "source": [
    "# Breaking a loop (see: https://docs.python.org/3/tutorial/controlflow.html)\n",
    "i = 0\n",
    "while True:  # This runs for a very long time ...\n",
    "    print(i)\n",
    "    i += 1\n",
    "    if i >= 3:  # ... unless you break it.\n",
    "        break"
   ]
  },
  {
   "attachments": {},
   "cell_type": "markdown",
   "metadata": {},
   "source": [
    "#### Functions\n",
    "\n",
    "See:\n",
    "* https://docs.python.org/3/tutorial/controlflow.html#defining-functions\n",
    "\n",
    "\n",
    "Here is an example for a function that calculates a [future value](https://en.wikipedia.org/wiki/Future_value)\n",
    "\n",
    "$\\text{FV} = \\text{PV} \\times (1+r)^t$"
   ]
  },
  {
   "cell_type": "code",
   "execution_count": 72,
   "metadata": {},
   "outputs": [
    {
     "name": "stdout",
     "output_type": "stream",
     "text": [
      "The future value after one year is  EUR 1,100.00\n",
      "The future value after two years is EUR 2,593.74\n"
     ]
    }
   ],
   "source": [
    "def calculate_simple_future_value(present_value, interest_rate, maturity):\n",
    "    return present_value * (1 + interest_rate) ** maturity\n",
    "\n",
    "print(f\"The future value after one year is  EUR {calculate_simple_future_value(1000, 0.1, 1):,.2f}\")\n",
    "print(f\"The future value after two years is EUR {calculate_simple_future_value(1000, 0.1, 10):,.2f}\")"
   ]
  },
  {
   "attachments": {},
   "cell_type": "markdown",
   "metadata": {},
   "source": [
    "**Exercise:** Using a conditional, write the [relu](https://en.wikipedia.org/wiki/Rectifier_(neural_networks)) function defined as follows\n",
    "\n",
    "$\\text{relu}(x) = \\left\\{\n",
    "   \\begin{array}{rl}\n",
    "     x, & \\text{if }  x \\ge 0 \\\\\n",
    "     0, & \\text{otherwise }.\n",
    "   \\end{array}\\right.$"
   ]
  },
  {
   "cell_type": "code",
   "execution_count": 73,
   "metadata": {},
   "outputs": [],
   "source": [
    "def relu(x):\n",
    "  # Your code here\n",
    "  return\n",
    "\n",
    "relu(-3)"
   ]
  },
  {
   "attachments": {},
   "cell_type": "markdown",
   "metadata": {},
   "source": [
    "Arguments in a function can be optional, which requires setting a default value (can be `None`). Consider, for example, a function that calculates a future value considering different [compounding periods](https://en.wikipedia.org/wiki/Compound_interest) $n$.\n",
    "\n",
    "$\\text{FV} = \\text{PV} \\times (1+\\frac{r}{n})^{nt}$\n",
    "\n",
    "Compared to calculate_future_value() above, the function below has:\n",
    "* an optional 'compounding' argument\n",
    "* type hints\n",
    "* a docstring"
   ]
  },
  {
   "cell_type": "code",
   "execution_count": 74,
   "metadata": {},
   "outputs": [
    {
     "name": "stdout",
     "output_type": "stream",
     "text": [
      "With annual compounding:       EUR 1,100.00\n",
      "With semi-annual compounding:  EUR 1,102.50\n",
      "With daily compounding:        EUR 1,105.16\n"
     ]
    }
   ],
   "source": [
    "def calculate_future_value(present_value:float, interest_rate:float, maturity:float, compounding:int=1) -> float:\n",
    "    \"\"\"Function to calculate a future value.\n",
    "\n",
    "    Parameters\n",
    "    ----------\n",
    "    present_value : float\n",
    "        DESCRIPTION.\n",
    "    interest_rate : float\n",
    "        DESCRIPTION.\n",
    "    maturity : float\n",
    "        DESCRIPTION.\n",
    "    compounding : int, optional\n",
    "        DESCRIPTION. The default is 1.\n",
    "\n",
    "    Returns\n",
    "    -------\n",
    "    float\n",
    "        DESCRIPTION.\n",
    "\n",
    "\n",
    "    \"\"\"\n",
    "    return present_value * (1 + interest_rate / compounding) ** (maturity * compounding)\n",
    "\n",
    "print(f\"With annual compounding:       EUR {calculate_future_value(1000, 0.1, 1):,.2f}\")\n",
    "print(f\"With semi-annual compounding:  EUR {calculate_future_value(1000, 0.1, 1, 2):,.2f}\")\n",
    "print(f\"With daily compounding:        EUR {calculate_future_value(1000, 0.1, 1, 365):,.2f}\")"
   ]
  },
  {
   "attachments": {},
   "cell_type": "markdown",
   "metadata": {},
   "source": [
    "## Packages and modules\n",
    "\n",
    "We have looked at a list of build-in Python functions before. Other than that, there is an extensive zoo of modules and packages that allow us to extend Python's capabilities. These extensions have to be installed using [conda](https://docs.conda.io/en/latest/) (recommended for Anaconda users) or [pip](https://pip.pypa.io/en/stable/). Luckily, most of the stuff that we need, already comes native with the Anaconda distribution.\n",
    "\n",
    "See:\n",
    "    * https://docs.python.org/3/tutorial/modules.html\n",
    "\n",
    "Packages have to be imported. Imports should be made at the top of a script, because the constitute dependencies ... the script will not run without the imports. Import statements can look like this."
   ]
  },
  {
   "cell_type": "code",
   "execution_count": 75,
   "metadata": {},
   "outputs": [
    {
     "name": "stdout",
     "output_type": "stream",
     "text": [
      "2023-04-18 20:53:53.915101\n",
      "2023-04-18 20:53:53.916570\n",
      "2023-04-18 20:53:53.916570\n"
     ]
    }
   ],
   "source": [
    "# Simple\n",
    "import datetime\n",
    "print(datetime.datetime.utcnow())\n",
    "\n",
    "# Specific\n",
    "from datetime import datetime\n",
    "print(datetime.utcnow())\n",
    "\n",
    "# Re-named\n",
    "from datetime import datetime as example_datetime\n",
    "print(example_datetime.utcnow())"
   ]
  },
  {
   "attachments": {},
   "cell_type": "markdown",
   "metadata": {},
   "source": [
    "Technically, modules are just python scripts and packages are folders that contain modules. We can make use of this to nest code into logical portions. Note that we have a `src/helper.py` script on GitHub. I can use the functions therein after importing them."
   ]
  },
  {
   "cell_type": "code",
   "execution_count": 76,
   "metadata": {},
   "outputs": [
    {
     "name": "stdout",
     "output_type": "stream",
     "text": [
      "With annual compounding:       EUR 1,100.00\n",
      "With semi-annual compounding:  EUR 1,102.50\n",
      "With daily compounding:        EUR 1,105.16\n"
     ]
    }
   ],
   "source": [
    "from src import helper\n",
    "\n",
    "print(f\"With annual compounding:       EUR {helper.calculate_future_value(1000, 0.1, 1):,.2f}\")\n",
    "print(f\"With semi-annual compounding:  EUR {helper.calculate_future_value(1000, 0.1, 1, 2):,.2f}\")\n",
    "print(f\"With daily compounding:        EUR {helper.calculate_future_value(1000, 0.1, 1, 365):,.2f}\")\n"
   ]
  },
  {
   "attachments": {},
   "cell_type": "markdown",
   "metadata": {},
   "source": [
    "# Complex data structures"
   ]
  },
  {
   "attachments": {},
   "cell_type": "markdown",
   "metadata": {},
   "source": [
    "## NumPy\n",
    "\n",
    "NumPy is a well-known library utilized for storing numerical arrays and carrying out computations on them. This not only allows for more concise code but also enhances its efficiency as most NumPy functions are designed in C for faster processing.\n",
    "\n",
    "See:\n",
    "* https://numpy.org/doc/1.24/\n",
    "* https://numpy.org/doc/1.24/user/absolute_beginners.html"
   ]
  },
  {
   "attachments": {},
   "cell_type": "markdown",
   "metadata": {},
   "source": [
    "Arrays are the central data structure in NumPy, and they are used to store homogeneous data. A NumPy array is similar to a list in Python, but it is more efficient in handling large amounts of data. In addition, NumPy arrays are highly optimized for numerical computations and support a wide range of mathematical operations.\n",
    "\n",
    "To use NumPy in Python, you need to import the NumPy library using the import statement. Here is an example of importing NumPy and creating a simple array:"
   ]
  },
  {
   "cell_type": "code",
   "execution_count": 77,
   "metadata": {},
   "outputs": [
    {
     "name": "stdout",
     "output_type": "stream",
     "text": [
      "[1 2 3 4 5]\n"
     ]
    }
   ],
   "source": [
    "import numpy as np\n",
    "\n",
    "# create a one-dimensional array\n",
    "arr = np.array([1, 2, 3, 4, 5])\n",
    "print(arr)"
   ]
  },
  {
   "attachments": {},
   "cell_type": "markdown",
   "metadata": {},
   "source": [
    "NumPy provides several functions to create arrays of different shapes and sizes. For example, you can create a two-dimensional array using the `np.array()` function with a list of lists:"
   ]
  },
  {
   "cell_type": "code",
   "execution_count": 78,
   "metadata": {},
   "outputs": [
    {
     "name": "stdout",
     "output_type": "stream",
     "text": [
      "[[1 2 3]\n",
      " [4 5 6]]\n"
     ]
    }
   ],
   "source": [
    "# create a two-dimensional array\n",
    "arr2d = np.array([[1, 2, 3], [4, 5, 6]])\n",
    "print(arr2d)"
   ]
  },
  {
   "attachments": {},
   "cell_type": "markdown",
   "metadata": {},
   "source": [
    "You can also create arrays of zeros or ones using the `np.zeros()` and `np.ones()` functions, respectively:"
   ]
  },
  {
   "cell_type": "code",
   "execution_count": 79,
   "metadata": {},
   "outputs": [
    {
     "name": "stdout",
     "output_type": "stream",
     "text": [
      "[[0. 0. 0.]\n",
      " [0. 0. 0.]]\n",
      "[[1. 1. 1.]\n",
      " [1. 1. 1.]]\n"
     ]
    }
   ],
   "source": [
    "# create an array of zeros\n",
    "zeros_arr = np.zeros((2, 3))\n",
    "print(zeros_arr)\n",
    "\n",
    "# create an array of ones\n",
    "ones_arr = np.ones((2, 3))\n",
    "print(ones_arr)"
   ]
  },
  {
   "attachments": {},
   "cell_type": "markdown",
   "metadata": {},
   "source": [
    "NumPy provides many built-in functions for mathematical operations, such as `np.sum()`, `np.mean()`, `np.std()`, and `np.dot()`. These functions can be used to perform mathematical operations on arrays:"
   ]
  },
  {
   "cell_type": "code",
   "execution_count": 80,
   "metadata": {},
   "outputs": [
    {
     "name": "stdout",
     "output_type": "stream",
     "text": [
      "15\n",
      "3.0\n",
      "1.4142135623730951\n",
      "32\n"
     ]
    }
   ],
   "source": [
    "# sum of all elements in an array\n",
    "arr_sum = np.sum(arr)\n",
    "print(arr_sum)\n",
    "\n",
    "# mean of all elements in an array\n",
    "arr_mean = np.mean(arr)\n",
    "print(arr_mean)\n",
    "\n",
    "# standard deviation of all elements in an array\n",
    "arr_std = np.std(arr)\n",
    "print(arr_std)\n",
    "\n",
    "# dot product of two arrays\n",
    "arr1 = np.array([1, 2, 3])\n",
    "arr2 = np.array([4, 5, 6])\n",
    "arr_dot = np.dot(arr1, arr2)\n",
    "print(arr_dot)"
   ]
  },
  {
   "attachments": {},
   "cell_type": "markdown",
   "metadata": {},
   "source": [
    "## Pandas\n",
    "\n",
    "Python pandas is an open-source library used for data manipulation and analysis. It provides highly efficient and flexible data structures for handling various data types, including tabular, time-series, and matrix data. Pandas offers two primary data structures, Series and DataFrame, that enable data cleaning, preprocessing, and analysis in a quick and intuitive manner. It also provides functions for reading and writing data from various file formats, such as CSV, Excel, SQL databases, and more. Python pandas is widely used in data science, machine learning, and financial analysis due to its robust capabilities for handling and analyzing large datasets.\n",
    "\n",
    "See:\n",
    "* https://pandas.pydata.org/docs/\n",
    "* https://pandas.pydata.org/docs/getting_started/index.html"
   ]
  },
  {
   "attachments": {},
   "cell_type": "markdown",
   "metadata": {},
   "source": [
    "Data frames are the primary data structure in Pandas, and they are used to store two-dimensional data. A data frame is similar to a spreadsheet, where each column can have a different data type. Pandas data frames can be created from a variety of sources, including CSV files, Excel files, SQL databases, and more.\n",
    "\n",
    "To use Pandas in Python, you need to import the Pandas library using the import statement. Here is an example of importing Pandas and creating a simple data frame:"
   ]
  },
  {
   "cell_type": "code",
   "execution_count": 81,
   "metadata": {},
   "outputs": [
    {
     "name": "stdout",
     "output_type": "stream",
     "text": [
      "    Name  Age      City\n",
      "0   John   25  New York\n",
      "1   Mary   30     Paris\n",
      "2  Peter   28    London\n",
      "3   Anna   35    Sydney\n"
     ]
    },
    {
     "data": {
      "text/html": [
       "<div>\n",
       "<style scoped>\n",
       "    .dataframe tbody tr th:only-of-type {\n",
       "        vertical-align: middle;\n",
       "    }\n",
       "\n",
       "    .dataframe tbody tr th {\n",
       "        vertical-align: top;\n",
       "    }\n",
       "\n",
       "    .dataframe thead th {\n",
       "        text-align: right;\n",
       "    }\n",
       "</style>\n",
       "<table border=\"1\" class=\"dataframe\">\n",
       "  <thead>\n",
       "    <tr style=\"text-align: right;\">\n",
       "      <th></th>\n",
       "      <th>Name</th>\n",
       "      <th>Age</th>\n",
       "      <th>City</th>\n",
       "    </tr>\n",
       "  </thead>\n",
       "  <tbody>\n",
       "    <tr>\n",
       "      <th>0</th>\n",
       "      <td>John</td>\n",
       "      <td>25</td>\n",
       "      <td>New York</td>\n",
       "    </tr>\n",
       "    <tr>\n",
       "      <th>1</th>\n",
       "      <td>Mary</td>\n",
       "      <td>30</td>\n",
       "      <td>Paris</td>\n",
       "    </tr>\n",
       "    <tr>\n",
       "      <th>2</th>\n",
       "      <td>Peter</td>\n",
       "      <td>28</td>\n",
       "      <td>London</td>\n",
       "    </tr>\n",
       "    <tr>\n",
       "      <th>3</th>\n",
       "      <td>Anna</td>\n",
       "      <td>35</td>\n",
       "      <td>Sydney</td>\n",
       "    </tr>\n",
       "  </tbody>\n",
       "</table>\n",
       "</div>"
      ],
      "text/plain": [
       "    Name  Age      City\n",
       "0   John   25  New York\n",
       "1   Mary   30     Paris\n",
       "2  Peter   28    London\n",
       "3   Anna   35    Sydney"
      ]
     },
     "metadata": {},
     "output_type": "display_data"
    }
   ],
   "source": [
    "import pandas as pd\n",
    "\n",
    "# create a simple data frame\n",
    "data = {'Name': ['John', 'Mary', 'Peter', 'Anna'],\n",
    "        'Age': [25, 30, 28, 35],\n",
    "        'City': ['New York', 'Paris', 'London', 'Sydney']}\n",
    "df = pd.DataFrame(data)\n",
    "# You can print a data frame, however, ...\n",
    "print(df)\n",
    "# ... display() makes it look nicer in notebooks(!)\n",
    "display(df)"
   ]
  },
  {
   "attachments": {},
   "cell_type": "markdown",
   "metadata": {},
   "source": [
    "Pandas provides several functions to manipulate data frames, such as selecting, filtering, and sorting data. For example, you can select specific columns from a data frame using the column name:"
   ]
  },
  {
   "cell_type": "code",
   "execution_count": 82,
   "metadata": {},
   "outputs": [
    {
     "name": "stdout",
     "output_type": "stream",
     "text": [
      "    Name  Age\n",
      "0   John   25\n",
      "1   Mary   30\n",
      "2  Peter   28\n",
      "3   Anna   35\n"
     ]
    }
   ],
   "source": [
    "# select specific columns\n",
    "name_age = df[['Name', 'Age']]\n",
    "print(name_age)"
   ]
  },
  {
   "attachments": {},
   "cell_type": "markdown",
   "metadata": {},
   "source": [
    "You can also filter data based on specific criteria using Boolean indexing:"
   ]
  },
  {
   "cell_type": "code",
   "execution_count": 83,
   "metadata": {},
   "outputs": [
    {
     "name": "stdout",
     "output_type": "stream",
     "text": [
      "   Name  Age    City\n",
      "1  Mary   30   Paris\n",
      "3  Anna   35  Sydney\n"
     ]
    }
   ],
   "source": [
    "# filter data based on criteria\n",
    "filtered_df = df[df['Age'] > 28]\n",
    "print(filtered_df)"
   ]
  },
  {
   "attachments": {},
   "cell_type": "markdown",
   "metadata": {},
   "source": [
    "Pandas also provides functions for summarizing data, such as `describe()` and `groupby()`. These functions can be used to compute statistics on data frames:"
   ]
  },
  {
   "cell_type": "code",
   "execution_count": 84,
   "metadata": {},
   "outputs": [
    {
     "name": "stdout",
     "output_type": "stream",
     "text": [
      "             Age\n",
      "count   4.000000\n",
      "mean   29.500000\n",
      "std     4.203173\n",
      "min    25.000000\n",
      "25%    27.250000\n",
      "50%    29.000000\n",
      "75%    31.250000\n",
      "max    35.000000\n",
      "           Age\n",
      "City          \n",
      "London    28.0\n",
      "New York  25.0\n",
      "Paris     30.0\n",
      "Sydney    35.0\n"
     ]
    }
   ],
   "source": [
    "# summarize data\n",
    "summary = df.describe()\n",
    "print(summary)\n",
    "\n",
    "# group data by a column\n",
    "grouped_df = df.groupby('City').mean()\n",
    "print(grouped_df)"
   ]
  },
  {
   "attachments": {},
   "cell_type": "markdown",
   "metadata": {},
   "source": [
    "# Plotting\n",
    "\n",
    "## Matplotlib\n",
    "\n",
    "Matplotlib is a data visualization library in Python that provides a comprehensive set of tools for creating static, animated, and interactive visualizations in Python. It enables users to generate high-quality 2D and 3D plots, histograms, scatterplots, bar charts, and other visualizations. Matplotlib is highly customizable, with extensive support for customizing colors, fonts, line styles, and markers, and also allows the creation of complex plots and subplots with minimal effort. The library provides both low-level and high-level APIs, which enable users to build simple or complex visualizations based on their needs. Matplotlib is widely used in scientific computing, data analysis, machine learning, and other fields that require data visualization for communication and analysis.\n",
    "\n",
    "See:\n",
    "* https://matplotlib.org/stable/index.html\n",
    "* https://matplotlib.org/stable/tutorials/introductory/quick_start.html"
   ]
  },
  {
   "attachments": {},
   "cell_type": "markdown",
   "metadata": {},
   "source": [
    "To use Matplotlib in Python, you need to import the Matplotlib library using the import statement. Here is an example of importing Matplotlib and creating a simple line plot:"
   ]
  },
  {
   "cell_type": "code",
   "execution_count": 85,
   "metadata": {},
   "outputs": [
    {
     "data": {
      "image/png": "[encoded data removed]",
      "text/plain": [
       "<Figure size 432x288 with 1 Axes>"
      ]
     },
     "metadata": {
      "needs_background": "light"
     },
     "output_type": "display_data"
    }
   ],
   "source": [
    "import matplotlib.pyplot as plt\n",
    "\n",
    "# create a simple line plot\n",
    "x = [1, 2, 3, 4, 5]\n",
    "y = [2, 4, 6, 8, 10]\n",
    "plt.plot(x, y)\n",
    "plt.show()"
   ]
  },
  {
   "attachments": {},
   "cell_type": "markdown",
   "metadata": {},
   "source": [
    "Matplotlib provides several functions for customizing plots, such as changing colors, adding labels and titles, and adjusting the size and style of the plot. For example, you can change the color and style of the line using the color and linestyle parameters:"
   ]
  },
  {
   "cell_type": "code",
   "execution_count": 86,
   "metadata": {},
   "outputs": [
    {
     "data": {
      "image/png": "[encoded data removed]",
      "text/plain": [
       "<Figure size 432x288 with 1 Axes>"
      ]
     },
     "metadata": {
      "needs_background": "light"
     },
     "output_type": "display_data"
    }
   ],
   "source": [
    "# customize the line plot\n",
    "plt.plot(x, y, color='red', linestyle='dashed')\n",
    "plt.xlabel('X-axis')\n",
    "plt.ylabel('Y-axis')\n",
    "plt.title('Line Plot')\n",
    "plt.show()\n"
   ]
  },
  {
   "attachments": {},
   "cell_type": "markdown",
   "metadata": {},
   "source": [
    "Matplotlib is a very versatile tool that can be easily customized. See:\n",
    "* https://matplotlib.org/stable/api/_as_gen/matplotlib.pyplot.subplots.html\n",
    "* https://matplotlib.org/stable/gallery/index"
   ]
  },
  {
   "cell_type": "code",
   "execution_count": 87,
   "metadata": {},
   "outputs": [
    {
     "data": {
      "image/png": "[encoded data removed]",
      "text/plain": [
       "<Figure size 432x288 with 2 Axes>"
      ]
     },
     "metadata": {
      "needs_background": "light"
     },
     "output_type": "display_data"
    }
   ],
   "source": [
    "import matplotlib.pyplot as plt\n",
    "import numpy as np\n",
    "\n",
    "# generate some sample data\n",
    "x = np.arange(0, 10, 0.1)\n",
    "y1 = np.sin(x)\n",
    "y2 = np.cos(x)\n",
    "\n",
    "# create the figure and subplots\n",
    "fig, ax1 = plt.subplots()\n",
    "\n",
    "# create a second y-axis\n",
    "ax2 = ax1.twinx()\n",
    "\n",
    "# plot the data on the first y-axis\n",
    "ax1.plot(x, y1, color='blue')\n",
    "ax1.set_xlabel('x')\n",
    "ax1.set_ylabel('sin(x)', color='blue')\n",
    "ax1.tick_params(axis='y', labelcolor='blue')\n",
    "\n",
    "# plot the data on the second y-axis\n",
    "ax2.plot(x, y2, color='red')\n",
    "ax2.set_ylabel('cos(x)', color='red')\n",
    "ax2.tick_params(axis='y', labelcolor='red')\n",
    "\n",
    "# set the title of the plot\n",
    "plt.title('Two y-axes example')\n",
    "\n",
    "# show the plot\n",
    "plt.show()"
   ]
  },
  {
   "attachments": {},
   "cell_type": "markdown",
   "metadata": {},
   "source": [
    "## Seaborn\n",
    "\n",
    "Seaborn is a Python data visualization library based on Matplotlib that provides a higher-level interface for creating informative and attractive statistical graphics. Seaborn simplifies the process of generating complex plots, such as heatmaps, time series, and categorical plots, by providing built-in functions that allow for easy customization of visual elements, color palettes, and themes. Seaborn also includes statistical functions that help in data exploration and modeling, such as regression plots, distribution plots, and categorical plots. Seaborn's API is designed to work seamlessly with Pandas data structures, making it an excellent tool for data analysis and data-driven storytelling. Seaborn is commonly used in fields such as data science, machine learning, and social sciences, where data visualization plays a crucial role in data analysis and communication.\n",
    "\n",
    "See:\n",
    "* https://seaborn.pydata.org/tutorial.html"
   ]
  },
  {
   "attachments": {},
   "cell_type": "markdown",
   "metadata": {},
   "source": [
    "To use Seaborn in Python, you need to import the Seaborn library using the import statement. Here is an example of importing Seaborn and creating a simple line plot:"
   ]
  },
  {
   "cell_type": "code",
   "execution_count": 88,
   "metadata": {},
   "outputs": [
    {
     "data": {
      "image/png": "[encoded data removed]",
      "text/plain": [
       "<Figure size 432x288 with 1 Axes>"
      ]
     },
     "metadata": {
      "needs_background": "light"
     },
     "output_type": "display_data"
    }
   ],
   "source": [
    "import seaborn as sns\n",
    "import matplotlib.pyplot as plt\n",
    "\n",
    "# Example data\n",
    "x = [1, 2, 3, 4, 5]\n",
    "y = [2, 4, 6, 8, 10]\n",
    "\n",
    "# customize the line plot\n",
    "sns.lineplot(x=x, y=y, color='red', linestyle='dashed')\n",
    "plt.xlabel('X-axis')\n",
    "plt.ylabel('Y-axis')\n",
    "plt.title('Line Plot')\n",
    "plt.show()"
   ]
  },
  {
   "attachments": {},
   "cell_type": "markdown",
   "metadata": {},
   "source": [
    "Seaborn also provides functions for creating other types of plots, such as scatter plots, bar plots, and heatmaps. Here is a more advanced example. A pairplot of [the iris dataset](https://archive.ics.uci.edu/ml/datasets/iris), which contains measurements of sepal length, sepal width, petal length, and petal width for three species of iris: setosa, versicolor, and virginica. The pairplot shows pairwise relationships between these variables and color-codes the points based on the species."
   ]
  },
  {
   "cell_type": "code",
   "execution_count": 89,
   "metadata": {},
   "outputs": [
    {
     "data": {
      "image/png": "[encoded data removed]",
      "text/plain": [
       "<Figure size 804.75x720 with 20 Axes>"
      ]
     },
     "metadata": {
      "needs_background": "light"
     },
     "output_type": "display_data"
    }
   ],
   "source": [
    "# load the iris dataset\n",
    "iris = sns.load_dataset(\"iris\")\n",
    "\n",
    "# create a pairplot with color-coded points based on species\n",
    "sns.pairplot(iris, hue=\"species\", diag_kind=\"hist\", \n",
    "             diag_kws=dict(edgecolor=\"k\", linewidth=0.5),\n",
    "             plot_kws=dict(edgecolor=\"k\", linewidth=0.5, alpha=0.7),\n",
    "             palette=\"bright\")\n",
    "\n",
    "# add a title\n",
    "plt.suptitle(\"Pairplot of Iris Dataset\", y=1.02, fontsize=18)\n",
    "\n",
    "# show the plot\n",
    "plt.show()"
   ]
  },
  {
   "cell_type": "code",
   "execution_count": 90,
   "metadata": {},
   "outputs": [
    {
     "data": {
      "text/html": [
       "<div>\n",
       "<style scoped>\n",
       "    .dataframe tbody tr th:only-of-type {\n",
       "        vertical-align: middle;\n",
       "    }\n",
       "\n",
       "    .dataframe tbody tr th {\n",
       "        vertical-align: top;\n",
       "    }\n",
       "\n",
       "    .dataframe thead th {\n",
       "        text-align: right;\n",
       "    }\n",
       "</style>\n",
       "<table border=\"1\" class=\"dataframe\">\n",
       "  <thead>\n",
       "    <tr style=\"text-align: right;\">\n",
       "      <th></th>\n",
       "      <th>sepal_length</th>\n",
       "      <th>sepal_width</th>\n",
       "      <th>petal_length</th>\n",
       "      <th>petal_width</th>\n",
       "      <th>species</th>\n",
       "    </tr>\n",
       "  </thead>\n",
       "  <tbody>\n",
       "    <tr>\n",
       "      <th>0</th>\n",
       "      <td>5.1</td>\n",
       "      <td>3.5</td>\n",
       "      <td>1.4</td>\n",
       "      <td>0.2</td>\n",
       "      <td>setosa</td>\n",
       "    </tr>\n",
       "    <tr>\n",
       "      <th>1</th>\n",
       "      <td>4.9</td>\n",
       "      <td>3.0</td>\n",
       "      <td>1.4</td>\n",
       "      <td>0.2</td>\n",
       "      <td>setosa</td>\n",
       "    </tr>\n",
       "    <tr>\n",
       "      <th>2</th>\n",
       "      <td>4.7</td>\n",
       "      <td>3.2</td>\n",
       "      <td>1.3</td>\n",
       "      <td>0.2</td>\n",
       "      <td>setosa</td>\n",
       "    </tr>\n",
       "    <tr>\n",
       "      <th>3</th>\n",
       "      <td>4.6</td>\n",
       "      <td>3.1</td>\n",
       "      <td>1.5</td>\n",
       "      <td>0.2</td>\n",
       "      <td>setosa</td>\n",
       "    </tr>\n",
       "    <tr>\n",
       "      <th>4</th>\n",
       "      <td>5.0</td>\n",
       "      <td>3.6</td>\n",
       "      <td>1.4</td>\n",
       "      <td>0.2</td>\n",
       "      <td>setosa</td>\n",
       "    </tr>\n",
       "    <tr>\n",
       "      <th>...</th>\n",
       "      <td>...</td>\n",
       "      <td>...</td>\n",
       "      <td>...</td>\n",
       "      <td>...</td>\n",
       "      <td>...</td>\n",
       "    </tr>\n",
       "    <tr>\n",
       "      <th>145</th>\n",
       "      <td>6.7</td>\n",
       "      <td>3.0</td>\n",
       "      <td>5.2</td>\n",
       "      <td>2.3</td>\n",
       "      <td>virginica</td>\n",
       "    </tr>\n",
       "    <tr>\n",
       "      <th>146</th>\n",
       "      <td>6.3</td>\n",
       "      <td>2.5</td>\n",
       "      <td>5.0</td>\n",
       "      <td>1.9</td>\n",
       "      <td>virginica</td>\n",
       "    </tr>\n",
       "    <tr>\n",
       "      <th>147</th>\n",
       "      <td>6.5</td>\n",
       "      <td>3.0</td>\n",
       "      <td>5.2</td>\n",
       "      <td>2.0</td>\n",
       "      <td>virginica</td>\n",
       "    </tr>\n",
       "    <tr>\n",
       "      <th>148</th>\n",
       "      <td>6.2</td>\n",
       "      <td>3.4</td>\n",
       "      <td>5.4</td>\n",
       "      <td>2.3</td>\n",
       "      <td>virginica</td>\n",
       "    </tr>\n",
       "    <tr>\n",
       "      <th>149</th>\n",
       "      <td>5.9</td>\n",
       "      <td>3.0</td>\n",
       "      <td>5.1</td>\n",
       "      <td>1.8</td>\n",
       "      <td>virginica</td>\n",
       "    </tr>\n",
       "  </tbody>\n",
       "</table>\n",
       "<p>150 rows × 5 columns</p>\n",
       "</div>"
      ],
      "text/plain": [
       "     sepal_length  sepal_width  petal_length  petal_width    species\n",
       "0             5.1          3.5           1.4          0.2     setosa\n",
       "1             4.9          3.0           1.4          0.2     setosa\n",
       "2             4.7          3.2           1.3          0.2     setosa\n",
       "3             4.6          3.1           1.5          0.2     setosa\n",
       "4             5.0          3.6           1.4          0.2     setosa\n",
       "..            ...          ...           ...          ...        ...\n",
       "145           6.7          3.0           5.2          2.3  virginica\n",
       "146           6.3          2.5           5.0          1.9  virginica\n",
       "147           6.5          3.0           5.2          2.0  virginica\n",
       "148           6.2          3.4           5.4          2.3  virginica\n",
       "149           5.9          3.0           5.1          1.8  virginica\n",
       "\n",
       "[150 rows x 5 columns]"
      ]
     },
     "metadata": {},
     "output_type": "display_data"
    },
    {
     "name": "stdout",
     "output_type": "stream",
     "text": [
      "<class 'pandas.core.frame.DataFrame'>\n"
     ]
    }
   ],
   "source": [
    "# This is how the data looks like\n",
    "display(iris)\n",
    "# This is just another Pandas data frame\n",
    "print(type(iris))"
   ]
  },
  {
   "cell_type": "code",
   "execution_count": 92,
   "metadata": {},
   "outputs": [
    {
     "data": {
      "text/plain": [
       "0"
      ]
     },
     "execution_count": 92,
     "metadata": {},
     "output_type": "execute_result"
    }
   ],
   "source": [
    "# This will convert the notebook to a html file\n",
    "import os\n",
    "# Convert to html slides\n",
    "os.system('jupyter nbconvert slides.ipynb --to html')"
   ]
  }
 ],
 "metadata": {
  "kernelspec": {
   "display_name": "Python 3 (ipykernel)",
   "language": "python",
   "name": "python3"
  },
  "language_info": {
   "codemirror_mode": {
    "name": "ipython",
    "version": 3
   },
   "file_extension": ".py",
   "mimetype": "text/x-python",
   "name": "python",
   "nbconvert_exporter": "python",
   "pygments_lexer": "ipython3",
   "version": "3.9.12"
  }
 },
 "nbformat": 4,
 "nbformat_minor": 2
}
